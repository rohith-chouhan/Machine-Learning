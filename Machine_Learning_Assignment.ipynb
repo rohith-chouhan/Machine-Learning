{
  "nbformat": 4,
  "nbformat_minor": 0,
  "metadata": {
    "colab": {
      "provenance": []
    },
    "kernelspec": {
      "name": "python3",
      "display_name": "Python 3"
    },
    "language_info": {
      "name": "python"
    }
  },
  "cells": [
    {
      "cell_type": "markdown",
      "source": [
        "### Machine Learning Assignment Q/A"
      ],
      "metadata": {
        "id": "UH32Y5Ke2zY8"
      }
    },
    {
      "cell_type": "markdown",
      "source": [
        "### 1) Explain the differences between AI, ML, Deep Learning (DL), and Data Science (DS).\n",
        "#### > **AI** - The broader concept of machines being able to carry out tasks in a way that we would consider “smart” or intelligent.Its scope is that it encompasses ML,DL, rule-based systems, robotics, etc.AI aims to simulate intelligent behavior.\n",
        "#### > **ML** - A subset of AI that enables systems to learn from data and improve without explicit programming.Uses algorithms to find patterns in data and make decisions.It focuses on learning from data.ML can work with smaller datasets.\n",
        "#### > **DL** - A specialized subset of ML that uses neural networks with many layers to model complex patterns.It requires large datasets and computing power.It solves more complex problems using deep neural networks.\n",
        "#### > **DS** - A field focused on extracting insights and knowledge from structured/unstructured data.Data Science is a broader field that uses AI/ML techniques along with statistics and data processing.It aims to extract actionable insights and make data-driven decisions.\n"
      ],
      "metadata": {
        "id": "6_HhgEGR2-m_"
      }
    },
    {
      "cell_type": "markdown",
      "source": [
        "### 2) What are the types of machine learning? Describe each with one real-world example.\n",
        "#### > **Supervised Learning** - In supervised learning, the algorithm is trained on labeled data which means the input data comes with the correct output. The model learns to map inputs to outputs by minimizing the difference between its predictions and the actual labels.\n",
        "#### **Example** : Email Spam Detection\n",
        "##### Input: Emails with features like sender address, keywords, links, etc.\n",
        "##### Output: Label - “spam” or “not spam”.\n",
        "#####The model learns from past labeled emails and predicts whether new incoming emails are spam.\n",
        "#### > **Unsupervised Learning** - In unsupervised learning, the algorithm is trained on unlabeled data. It tries to find patterns or structures within the data without predefined outputs.\n",
        "#### **Example** : Customer Segmentation\n",
        "##### Input: Customer data such as age, purchase history, location, etc.\n",
        "##### Output: No labels provided.\n",
        "##### The algorithm groups similar customers into segments (clusters) so that marketing campaigns can be tailored for each group.\n",
        "#### > **Reinforcement Learning** - In reinforcement learning, an agent learns by interacting with an environment. It receives rewards or penalties based on its actions and learns the optimal strategy (policy) to maximize cumulative rewards over time.\n",
        "#### **Example** : Self-driving Cars\n",
        "##### The car (agent) navigates the road (environment), making decisions like turning, braking, or accelerating.\n",
        "##### It receives feedback (reward or penalty) based on how safely and efficiently it drives.\n",
        "#### > **Semi-supervised Learning** - A combination of supervised and unsupervised learning. The model is trained with a small amount of labeled data and a large amount of unlabeled data.\n",
        "#### **Example** : Facial Recognition Systems\n",
        "##### Labeled images (with known identities) help guide the learning process, while unlabeled images are used to improve accuracy by identifying patterns and relationships.\n",
        "#### > **Self-supervised Learning** - The model generates its own labels from the input data without human intervention. It learns by predicting parts of the data from other parts.\n",
        "#### **Example** : Language Models (like GPT)\n",
        "#### The model predicts the next word or missing parts of a sentence based on the context provided."
      ],
      "metadata": {
        "id": "BpyfOqzO4fkB"
      }
    },
    {
      "cell_type": "markdown",
      "source": [
        "### 3) Define overfitting, underfitting, and the bias-variance tradeoff in machine learning.\n",
        "#### > **Overfitting** - Overfitting occurs when a machine learning model learns the training data too well, including its noise and outliers, leading to high accuracy on the training set but poor generalization to new, unseen data.\n",
        "- Model complexity is too high.\n",
        "- Captures random fluctuations rather than underlying patterns.\n",
        "- Training error is low, test error is high.\n",
        "#### **Example** : A model trained to predict house prices memorizes unusual cases rather than learning general price trends.\n",
        "#### > **Underfitting** - Underfitting happens when a machine learning model is too simple to capture the underlying structure in the data. It performs poorly on both the training set and new data because it hasn't learned enough from the patterns.\n",
        "- Model complexity is too low.\n",
        "- Fails to capture relevant patterns.\n",
        "- Both training error and test error are high.\n",
        "#### **Example** : A linear regression model trying to fit data that actually follows a more complex, nonlinear relationship.\n",
        "#### > **Bias-Variance Tradeoff** - The bias-variance tradeoff is the balance between two sources of error that affect the model's ability to generalize:\n",
        "- **Bias** : Error due to incorrect assumptions in the learning algorithm (too simple a model).\n",
        "- **Variance** : Error due to excessive sensitivity to small fluctuations in the training data (too complex a model).\n",
        "- High bias → underfitting - model too simple.\n",
        "- High variance → overfitting - model too complex.\n",
        "#### The goal is to find a balance where both bias and variance are minimized to achieve optimal generalization.\n",
        "#### **Example** : A machine learning model to predict house prices based on features like area, number of rooms, location, etc."
      ],
      "metadata": {
        "id": "6A7Sxkxw6nzg"
      }
    },
    {
      "cell_type": "markdown",
      "source": [
        "### 4) What are outliers in a dataset, and list three common techniques for handling them.\n",
        "#### > Outliers are data points that differ significantly from other observations in the dataset. They may be unusually high or low compared to the majority of data.\n",
        "### Three Common Techniques for Handling Outliers :\n",
        "#### **Removing Outliers** - Simply exclude outlier points from the dataset if they are deemed erroneous or irrelevant.\n",
        "#### **Example** : If house prices above $5 million are data entry errors, you can remove them.\n",
        "#### **Transforming Data** - Apply transformations like logarithmic, square root, or Box-Cox transformation to reduce the impact of outliers.\n",
        "#### **Example** : Taking the log of income values compresses extreme values.\n",
        "#### **Imputation or Capping (Winsorization)** - Replace outliers with statistical estimates like the mean, median, or a threshold value.\n",
        "#### **Example** : Capping extreme ages at the 95th percentile ensures they don't distort the model."
      ],
      "metadata": {
        "id": "x3neHGew8Ql_"
      }
    },
    {
      "cell_type": "markdown",
      "source": [
        "### 5) Explain the process of handling missing values and mention one imputation technique for numerical and one for categorical data.\n",
        "#### > Missing values are common in datasets and can arise due to errors in data collection, entry, or other factors. Handling them properly is crucial because missing data can bias analysis and reduce the accuracy of models.\n",
        "#### Handling Missing Values :\n",
        "#### **Identify Missing Values** -\n",
        "- Check for null, NaN, or blank entries in the dataset.\n",
        "- Use functions like .isnull() or .info() in Python (pandas).\n",
        "#### **Analyze Missingness** -\n",
        "- Determine if missing values are random or systematic.\n",
        "- Understand whether missing data affects specific features or rows.\n",
        "#### **Decide on an Approach** -\n",
        "- Remove missing rows or columns if the missing data is insignificant.\n",
        "- Impute missing values to preserve as much data as possible.\n",
        "- Use algorithms that can handle missing data inherently.\n",
        "#### **Choose an Imputation Technique** -\n",
        "- Based on data type: numerical or categorical.\n",
        "- Based on the nature of missingness and distribution.\n",
        "#### **Apply Imputation or Removal** -\n",
        "- Fill missing values using chosen methods.\n",
        "- Validate the model to ensure imputation improves or maintains accuracy.\n",
        "### Imputation Techniques\n",
        "#### **For Numerical Data** - Mean or Median Imputation\n",
        "#### **Example** : Filling missing ages with the median age\n",
        "- Use the median because it is less affected by outliers.\n",
        "- df['Age'] = df['Age'].fillna(df['Age'].median())\n",
        "#### **For Categorical Data** -  Mode Imputation\n",
        "#### **Example** : Filling missing \"Gender\" values with the most common gender\n",
        "- Mode represents the most frequent category.\n",
        "- df['Gender'] = df['Gender'].fillna(df['Gender'].mode()[0])"
      ],
      "metadata": {
        "id": "ZZpznIUC9Dy6"
      }
    },
    {
      "cell_type": "markdown",
      "source": [
        "### 6) Write a Python program that:\n",
        "- Creates a synthetic imbalanced dataset with make_classification() from\n",
        "sklearn.datasets.\n",
        "- Prints the class distribution.\n"
      ],
      "metadata": {
        "id": "1LM-IPvs-RHa"
      }
    },
    {
      "cell_type": "code",
      "source": [
        "from sklearn.datasets import make_classification\n",
        "import numpy as np\n",
        "from collections import Counter\n",
        "\n",
        "X, y = make_classification(n_samples=1000,\n",
        "                           n_features=20,\n",
        "                           n_informative=2,\n",
        "                           n_redundant=10,\n",
        "                           n_classes=2,\n",
        "                           weights=[0.9, 0.1],\n",
        "                           random_state=42)\n",
        "\n",
        "class_distribution = Counter(y)\n",
        "print(f\"Class 0: {class_distribution[0]}, Class 1: {class_distribution[1]}\")"
      ],
      "metadata": {
        "colab": {
          "base_uri": "https://localhost:8080/"
        },
        "id": "bYstMQpJ-Yjh",
        "outputId": "928acac3-7ecf-4f88-fdc4-878806227fac"
      },
      "execution_count": null,
      "outputs": [
        {
          "output_type": "stream",
          "name": "stdout",
          "text": [
            "Class 0: 898, Class 1: 102\n"
          ]
        }
      ]
    },
    {
      "cell_type": "markdown",
      "source": [
        "### 7) Implement one-hot encoding using pandas for the following list of colors: ['Red', 'Green', 'Blue', 'Green', 'Red']. Print the resulting dataframe."
      ],
      "metadata": {
        "id": "w7jKrzYb_0Bc"
      }
    },
    {
      "cell_type": "code",
      "source": [
        "import pandas as pd\n",
        "colors = ['Red', 'Green', 'Blue', 'Green', 'Red']\n",
        "df = pd.DataFrame({'Color': colors})\n",
        "\n",
        "one_hot_df = pd.get_dummies(df, columns=['Color'])\n",
        "print(one_hot_df)"
      ],
      "metadata": {
        "colab": {
          "base_uri": "https://localhost:8080/"
        },
        "id": "jJ-kwENh_4kj",
        "outputId": "996b40fc-607b-4bbe-b600-d38415242e5d"
      },
      "execution_count": null,
      "outputs": [
        {
          "output_type": "stream",
          "name": "stdout",
          "text": [
            "   Color_Blue  Color_Green  Color_Red\n",
            "0       False        False       True\n",
            "1       False         True      False\n",
            "2        True        False      False\n",
            "3       False         True      False\n",
            "4       False        False       True\n"
          ]
        }
      ]
    },
    {
      "cell_type": "markdown",
      "source": [
        "### 8) Write a Python script to:\n",
        "- Generate 1000 samples from a normal distribution.\n",
        "- Introduce 50 random missing values.\n",
        "- Fill missing values with the column mean.\n",
        "- Plot a histogram before and after imputation.\n"
      ],
      "metadata": {
        "id": "Z99G60dDADAV"
      }
    },
    {
      "cell_type": "code",
      "source": [
        "import numpy as np\n",
        "import pandas as pd\n",
        "import matplotlib.pyplot as plt\n",
        "\n",
        "np.random.seed(42)\n",
        "data = np.random.normal(loc=0, scale=1, size=1000)\n",
        "\n",
        "df = pd.DataFrame({'Values': data})\n",
        "\n",
        "missing_indices = np.random.choice(df.index, size=50, replace=False)\n",
        "df.loc[missing_indices, 'Values'] = np.nan\n",
        "\n",
        "data_before = df['Values'].copy()\n",
        "\n",
        "mean_value = df['Values'].mean()\n",
        "df['Values'].fillna(mean_value, inplace=True)\n",
        "\n",
        "data_after = df['Values']\n",
        "\n",
        "plt.figure(figsize=(12, 5))\n",
        "\n",
        "plt.subplot(1, 2, 1)\n",
        "plt.hist(data_before.dropna(), bins=30, color='skyblue', edgecolor='black')\n",
        "plt.title('Histogram Before Imputation')\n",
        "plt.xlabel('Value')\n",
        "plt.ylabel('Frequency')\n",
        "\n",
        "plt.subplot(1, 2, 2)\n",
        "plt.hist(data_after, bins=30, color='salmon', edgecolor='black')\n",
        "plt.title('Histogram After Imputation')\n",
        "plt.xlabel('Value')\n",
        "plt.ylabel('Frequency')\n",
        "\n",
        "plt.tight_layout()\n",
        "plt.show()"
      ],
      "metadata": {
        "colab": {
          "base_uri": "https://localhost:8080/",
          "height": 649
        },
        "id": "KjT8EXnSAPN_",
        "outputId": "27cbd659-2e4a-429a-d761-2a1fe7777883"
      },
      "execution_count": null,
      "outputs": [
        {
          "output_type": "stream",
          "name": "stderr",
          "text": [
            "/tmp/ipython-input-1030034721.py:21: FutureWarning: A value is trying to be set on a copy of a DataFrame or Series through chained assignment using an inplace method.\n",
            "The behavior will change in pandas 3.0. This inplace method will never work because the intermediate object on which we are setting values always behaves as a copy.\n",
            "\n",
            "For example, when doing 'df[col].method(value, inplace=True)', try using 'df.method({col: value}, inplace=True)' or df[col] = df[col].method(value) instead, to perform the operation inplace on the original object.\n",
            "\n",
            "\n",
            "  df['Values'].fillna(mean_value, inplace=True)\n"
          ]
        },
        {
          "output_type": "display_data",
          "data": {
            "text/plain": [
              "<Figure size 1200x500 with 2 Axes>"
            ],
            "image/png": "[encoded data removed]"
          },
          "metadata": {}
        }
      ]
    },
    {
      "cell_type": "markdown",
      "source": [
        "### 9) Implement Min-Max scaling on the following list of numbers [2, 5, 10,15,20] using sklearn.preprocessing.MinMaxScaler. Print the scaled array.\n"
      ],
      "metadata": {
        "id": "PeTBqea9BB1d"
      }
    },
    {
      "cell_type": "code",
      "source": [
        "from sklearn.preprocessing import MinMaxScaler\n",
        "import numpy as np\n",
        "\n",
        "data = np.array([[2], [5], [10], [15], [20]])\n",
        "scaler = MinMaxScaler()\n",
        "\n",
        "scaled_data = scaler.fit_transform(data)\n",
        "\n",
        "print(\"Scaled array:\")\n",
        "print(scaled_data)\n"
      ],
      "metadata": {
        "colab": {
          "base_uri": "https://localhost:8080/"
        },
        "id": "3d38VYtFAa6r",
        "outputId": "b3f51bb0-2f94-48ad-bf50-bd2aa3ae9c90"
      },
      "execution_count": null,
      "outputs": [
        {
          "output_type": "stream",
          "name": "stdout",
          "text": [
            "Scaled array:\n",
            "[[0.        ]\n",
            " [0.16666667]\n",
            " [0.44444444]\n",
            " [0.72222222]\n",
            " [1.        ]]\n"
          ]
        }
      ]
    },
    {
      "cell_type": "markdown",
      "source": [
        "### 10) You are working as a data scientist for a retail company. You receive a customer transaction dataset that contains:\n",
        "- Missing ages,\n",
        "- Outliers in transaction amount,\n",
        "- A highly imbalanced target (fraud vs. non-fraud),\n",
        "- Categorical variables like payment method.\n",
        "#### Explain the step-by-step data preparation plan you'd follow before training a machine learning model. Include how you;d address missing data, outliers, imbalance, and encoding.\n",
        "#### > **1) Handle Missing Ages** -\n",
        "- Problem: Some customers don't have their age recorded.\n",
        "- Solution: Replace missing ages with the median age (less sensitive to outliers than the mean).\n",
        "- df['age'] = df['age'].fillna(df['age'].median())\n",
        "#### > **2)Handle Outliers in Transaction Amount** -\n",
        "- Problem: Some transactions are extremely large (₹50,000, ₹60,000, etc.).\n",
        "- Solution: Instead of removing them, apply a log transformation so big values shrink but small values stay almost the same. This reduces skewness.\n",
        "- df['transaction_amount'] = np.log1p(df['transaction_amount'])\n",
        "#### > **3) Handle Categorical Variables (Payment Method)** -\n",
        "- Problem: Models can't directly understand text like \"card\", \"upi\", \"wallet\".\n",
        "- Solution: Convert them into numbers using one-hot encoding (each method becomes a new column with 0/1 values).\n",
        "- df = pd.get_dummies(df, columns=['payment_method'])\n",
        "#### > **4) Address Imbalanced Target (fraud vs. non-fraud)** -\n",
        "- Problem: Fraud cases are usually very rare compared to non-fraud.\n",
        "- Solution: Use oversampling so that both classes are balanced.\n",
        "- If enough fraud samples exist - use SMOTE (creates synthetic samples).\n",
        "- If very few fraud samples - use RandomOverSampler (duplicates minority samples).\n",
        "- **if min_count <= 1**:\n",
        "    from imblearn.over_sampling import RandomOverSampler\n",
        "    ros = RandomOverSampler(random_state=42)\n",
        "    X_train_res, y_train_res = ros.fit_resample(X_train, y_train)\n",
        "- **else**:\n",
        "    from imblearn.over_sampling import SMOTE\n",
        "    k = min(5, min_count - 1)\n",
        "    sm = SMOTE(k_neighbors=k, random_state=42)\n",
        "    X_train_res, y_train_res = sm.fit_resample(X_train, y_train)\n",
        "#### > **5) Train a Model** - Use RandomForest (handles mixed features well).\n",
        "-from sklearn.ensemble import RandomForestClassifier\n",
        "- clf = RandomForestClassifier(random_state=42)\n",
        "- clf.fit(X_train_res, y_train_res)\n",
        "#### > **6)Evaluate Performance** -\n",
        "- print(\"Train accuracy:\", clf.score(X_train_res, y_train_res))\n",
        "- print(\"Test accuracy:\", clf.score(X_test, y_test))"
      ],
      "metadata": {
        "id": "u6vGABZ4BadS"
      }
    },
    {
      "cell_type": "code",
      "source": [
        "import pandas as pd\n",
        "import numpy as np\n",
        "from sklearn.model_selection import train_test_split\n",
        "from sklearn.ensemble import RandomForestClassifier\n",
        "from imblearn.over_sampling import SMOTE, RandomOverSampler\n",
        "\n",
        "df = pd.DataFrame({\n",
        "    'age': [25, np.nan, 40, 32, np.nan, 50, 28, 45],\n",
        "    'transaction_amount': [100, 50000, 300, 120, 60000, 250, 700, 80000],\n",
        "    'payment_method': ['card','upi','card','wallet','card','upi','card','wallet'],\n",
        "    'is_fraud': [0,1,0,0,1,0,0,1]\n",
        "})\n",
        "\n",
        "df['age'] = df['age'].fillna(df['age'].median())\n",
        "df['transaction_amount'] = np.log1p(df['transaction_amount'])\n",
        "df = pd.get_dummies(df, columns=['payment_method'])\n",
        "\n",
        "X = df.drop('is_fraud', axis=1)\n",
        "y = df['is_fraud']\n",
        "X_train, X_test, y_train, y_test = train_test_split(\n",
        "    X, y, test_size=0.3, stratify=y, random_state=42\n",
        ")\n",
        "\n",
        "min_count = y_train.value_counts().min()\n",
        "if min_count <= 1:\n",
        "\n",
        "    print(\"Using RandomOverSampler because minority count in train <= 1\")\n",
        "    ros = RandomOverSampler(random_state=42)\n",
        "    X_train_res, y_train_res = ros.fit_resample(X_train, y_train)\n",
        "else:\n",
        "\n",
        "    k = min(5, min_count - 1)\n",
        "    sm = SMOTE(k_neighbors=k, random_state=42)\n",
        "    X_train_res, y_train_res = sm.fit_resample(X_train, y_train)\n",
        "\n",
        "clf = RandomForestClassifier(random_state=42)\n",
        "clf.fit(X_train_res, y_train_res)\n",
        "\n",
        "print(\"Train shape (after resample):\", X_train_res.shape, y_train_res.shape)\n",
        "print(\"Train accuracy:\", clf.score(X_train_res, y_train_res))\n",
        "print(\"Test accuracy:\", clf.score(X_test, y_test))"
      ],
      "metadata": {
        "id": "GNHpck_6BlJR",
        "colab": {
          "base_uri": "https://localhost:8080/"
        },
        "outputId": "08cdd8a4-6ace-4339-cfc1-faa24eddc1d5"
      },
      "execution_count": 3,
      "outputs": [
        {
          "output_type": "stream",
          "name": "stdout",
          "text": [
            "Train shape (after resample): (6, 5) (6,)\n",
            "Train accuracy: 1.0\n",
            "Test accuracy: 1.0\n"
          ]
        }
      ]
    }
  ]
}